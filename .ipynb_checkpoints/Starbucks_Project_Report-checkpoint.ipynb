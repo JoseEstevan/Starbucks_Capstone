{
 "cells": [
  {
   "cell_type": "markdown",
   "id": "a11594fc-d2cd-49c7-bcfe-2644f919d744",
   "metadata": {},
   "source": [
    "# <div align=\"left\">Capstone Project</div> <div align=\"right\">José Estevan</div>\n",
    "## <div align=\"right\">Mar 08st, 2023</div>\n",
    "## Data Science Nanodegree"
   ]
  },
  {
   "cell_type": "markdown",
   "id": "33bf535a-e0d6-4d50-bfa4-03d9b94c1ae8",
   "metadata": {},
   "source": [
    "# <center>Starbucks Capstone Project</center>\n",
    "## <center>Project Definition</center>"
   ]
  },
  {
   "cell_type": "markdown",
   "id": "3d998c76-fc81-466e-a618-e9fb133ff3d5",
   "metadata": {},
   "source": [
    "<div align=\"right\">\n",
    "  my text here.\n",
    "</div>"
   ]
  },
  {
   "cell_type": "markdown",
   "id": "fe560703-898b-4914-9a63-510a61442b9b",
   "metadata": {},
   "source": [
    "# Project Overview"
   ]
  },
  {
   "cell_type": "markdown",
   "id": "cbbd35ba-9ae9-4386-bcf4-5cf678bb71ae",
   "metadata": {},
   "source": [
    "This data set contains simulated data that mimics customer behavior on the Starbucksrewards mobile app. Once every few days, Starbucks sends out an offer to users of the\n",
    "mobile app. An offer can be merely an advertisement for a drink or an actual offer such as a\n",
    "discount or BOGO (buy one get one free). Some users might not receive any offer during\n",
    "certain weeks.\n",
    "Not all users receive the same offer, and that was the challenge to solve with this data set.\n",
    "Our task is to combine transaction, demographic and offer data to determine which\n",
    "demographic groups respond best to which offer type. This data set is a simplified version\n",
    "of the real Starbucks app because the underlying simulator only has one product whereas\n",
    "Starbucks actually sells dozens of products.\n",
    "Every offer has a validity period before the offer expires. As an example, a BOGO offer\n",
    "might be valid for only 5 days. Informational offers also have a validity period even though\n",
    "these ads are merely providing information about a product; for example, if an informational offer has 7 days of validity, we can assume the customer is feeling the\n",
    "influence of the offer for 7 days after receiving the advertisement.\n",
    "\n"
   ]
  },
  {
   "cell_type": "markdown",
   "id": "c0973318-1d0a-4493-adf6-1ec1931c32b0",
   "metadata": {},
   "source": [
    "## Data Dictionary"
   ]
  },
  {
   "cell_type": "markdown",
   "id": "86ef1dba-c8e4-430c-aa7b-0950818c2d26",
   "metadata": {},
   "source": [
    "profile.json\n",
    "Rewards program users (17000 users x 5 fields)\n",
    "* gender: (categorical) M, F, O, or null\n",
    "* age: (numeric) missing value encoded as 118\n",
    "* id: (string/hash)\n",
    "portfolio.json\n",
    "Offers sent during 30-day test period (10 offers x 6 fields)\n",
    "* reward: (numeric) money awarded for the amount spent\n",
    "* channels: (list) web, email, mobile, social\n",
    "* difficulty: (numeric) money required to be spent to receive reward\n",
    "* duration: (numeric) time for offer to be open, in days\n",
    "* offer_type: (string) bogo, discount, informational\n",
    "* id: (string/hash)\n",
    "transcript.json\n",
    "Event log (306648 events x 4 fields)\n",
    "* person: (string/hash)\n",
    "* event: (string) offer received, offer viewed, transaction, offer completed\n",
    "* value: (dictionary) different values depending on event type\n",
    "* offer id: (string/hash) not associated with any \"transaction\"\n",
    "* amount: (numeric) money spent in \"transaction\"\n",
    "* reward: (numeric) money gained from \"offer completed\"\n",
    "* time: (numeric) hours after start of test"
   ]
  },
  {
   "cell_type": "markdown",
   "id": "ef70db99-5b55-4301-9d40-ff712a963849",
   "metadata": {},
   "source": [
    "## Offer Types"
   ]
  },
  {
   "cell_type": "markdown",
   "id": "a7980ddd-1f66-4c50-9385-82579c4a97b3",
   "metadata": {},
   "source": [
    "There are three types of offers that can be sent: buy-one-get-one (BOGO), discount,\n",
    "and informational.\n",
    "* In a BOGO offer, a user needs to spend a certain amount to get a reward equal to that\n",
    "threshold amount.\n",
    "* In a discount, a user gains a reward equal to a fraction of the amount spent.\n",
    "* In an informational offer, there is no reward, but neither is there a requisite amount\n",
    "that the user is expected to spend.\n",
    "Offers can be delivered via multiple channels."
   ]
  },
  {
   "cell_type": "markdown",
   "id": "c583cc32-6a40-46c8-b94d-28af654ce4db",
   "metadata": {},
   "source": [
    "# Problem Statement"
   ]
  },
  {
   "cell_type": "markdown",
   "id": "2807cf83-1180-453e-9fb5-5062cda8337c",
   "metadata": {},
   "source": [
    "Predicting the purchase offer to which a possible higher level of response or user actions like ‘offer received’, ‘offer viewed’, ‘transaction’ and ‘offer completed’ can be achieved based on the demographic attributes of the customer and other attributes of the companies purchase offers. <br>\n",
    "### Metrics:\n",
    "Accuracy is the quintessential classification metric. ... And easily suited for binary as well as a multiclass classification problem. <br>\n",
    "Accuracy = (TP+TN)/(TP+FP+FN+TN) <br>\n",
    "Accuracy is the proportion of true results among the total number of cases examined. <br>\n",
    "* became_member_on: (date) format YYYYMMDD\n",
    "* income: (numeric)"
   ]
  },
  {
   "cell_type": "markdown",
   "id": "9bf306a5-8b82-434f-9754-3c0d928defcc",
   "metadata": {},
   "source": [
    "# Data Exploration and Visualization"
   ]
  },
  {
   "cell_type": "markdown",
   "id": "5c7a2f2a-9a3c-43e1-854e-42f7f0e979b4",
   "metadata": {},
   "source": [
    "### 1. Age Group<br>\n",
    "* Outlier is present Age > 115 is present is a high amount, which does not make sense .\n",
    "* Average Aged user is middle age ie. around 50-62 years"
   ]
  },
  {
   "cell_type": "code",
   "execution_count": null,
   "id": "960f640f-34ef-44fa-935f-8662ea0e1e2a",
   "metadata": {},
   "outputs": [],
   "source": []
  },
  {
   "cell_type": "markdown",
   "id": "29399a06-ea83-45cd-9fac-f07077a1e381",
   "metadata": {},
   "source": [
    "### 2 . Income Range\n",
    "* Average income user is middle income group ie. 65000-70000"
   ]
  },
  {
   "cell_type": "code",
   "execution_count": null,
   "id": "2822aa13-3d62-40b1-be30-29b970b1ffd5",
   "metadata": {},
   "outputs": [],
   "source": []
  },
  {
   "cell_type": "markdown",
   "id": "de07d0d7-0b69-4d27-b38a-f3726d380167",
   "metadata": {},
   "source": [
    "3. Gender :\n",
    "* Males are more than 50 percent of users <br>\n",
    "* male_proportion = 50.79%, <br>\n",
    "* female_proportion = 36.89%, <br>\n",
    "* others_proportion = 1.29% <br>"
   ]
  },
  {
   "cell_type": "code",
   "execution_count": null,
   "id": "af85626b-3928-40ea-b85c-2aba86004cb4",
   "metadata": {},
   "outputs": [],
   "source": []
  },
  {
   "cell_type": "markdown",
   "id": "6b25fa03-7b37-44e2-83fd-3392b0b0342b",
   "metadata": {},
   "source": [
    "### 4. No. of Different Type of Offers Received by the Users\n",
    "* BOGO offers are highly demanding , 30499 users received BOGO offers, 25449 viewed the offer and 15669 completed it.\n",
    "* The percentage of BOGO Offer viewers is 83 percent .\n",
    "* The percentage of DISCOUNT Offer viewers is 70 percent . <br>\n",
    "\n",
    "For BOGO Offer\n",
    "* Offer _Viewed_proportion = 83.44% ,\n",
    "* Offer_Completed_proportion = 51.37%"
   ]
  },
  {
   "cell_type": "code",
   "execution_count": null,
   "id": "923461c0-c15d-41ef-b140-cc6a1e2720f3",
   "metadata": {},
   "outputs": [],
   "source": []
  },
  {
   "cell_type": "markdown",
   "id": "039d9168-0c76-4673-9a7c-477be7173d30",
   "metadata": {},
   "source": [
    "### 5. No. of Offers_Id Received Different types of Offers\n",
    "* evry offer_id received eual offers .\n",
    "* Viewing ratio decreased for some offer_ids like 0 , 6 , 7 , 5\n",
    "* Offer completed ration is quite decent"
   ]
  },
  {
   "cell_type": "code",
   "execution_count": null,
   "id": "0f28b010-3d56-4ea2-8244-712f070e6c4a",
   "metadata": {},
   "outputs": [],
   "source": []
  },
  {
   "cell_type": "markdown",
   "id": "6a944555-92fa-4216-8bd2-de525f628130",
   "metadata": {},
   "source": [
    "# Algorithms and Techniques"
   ]
  },
  {
   "cell_type": "markdown",
   "id": "20f98fef-1250-4850-a336-0773406eb5e4",
   "metadata": {},
   "source": [
    "The Classifier is Artificial Neural Network (ANN) . A neural network is a series of\n",
    "algorithms that endeavors to recognize underlying relationships in a set of data through a\n",
    "process that mimics the way the human brain operates. In this sense, neural networks refer\n",
    "to systems of neurons, either organic or artificial in nature. Neural networks can adapt to\n",
    "changing input; so the network generates the best possible result without needing to\n",
    "redesign the output criteria.\n"
   ]
  },
  {
   "cell_type": "code",
   "execution_count": null,
   "id": "84e77952-8731-469d-b062-f683710d4d10",
   "metadata": {},
   "outputs": [],
   "source": []
  },
  {
   "cell_type": "markdown",
   "id": "42a94a79-f456-4f66-bdc7-b7f76cfb909a",
   "metadata": {},
   "source": [
    "An artificial neural network (ANN) is the piece of a computing system designed to simulate\n",
    "the way the human brain analyzes and processes information. It is the foundation of\n",
    "Artificial Intelligence (AI) and solves problems that would prove impossible or difficult by\n",
    "human or statistical standards. ANNs have self-learning capabilities that enable them to\n",
    "produce better results as more data becomes available.\n",
    "#### Inputs\n",
    "Source data fed into the neural network, with the goal of making a decision or prediction about the data. Inputs to a neural network are typically a set of real values; each value is fed\n",
    "into one of the neurons in the input layer."
   ]
  },
  {
   "cell_type": "markdown",
   "id": "8545d808-1fcc-4e6f-b683-6dd89c41710f",
   "metadata": {},
   "source": [
    "### Training Set\n",
    "A set of inputs for which the correct outputs are known, used to train the neural network.\n",
    "Outputs\n",
    "Neural networks generate their predictions in the form of a set of real values or boolean\n",
    "decisions. Each output value is generated by one of the neurons in the output layer.\n",
    "### Neuron/perceptron\n",
    "The basic unit of the neural network. Accepts an input and generates a prediction.\n",
    "Each neuron accepts part of the input and passes it through the activation function.\n",
    "Common activation functions are sigmoid, TanH and ReLu. Activation functions help\n",
    "generate output values within an acceptable range, and their non-linear form is crucial for\n",
    "training the network .\n",
    "### Error Function\n",
    "Defines how far the actual output of the current model is from the correct output. When\n",
    "training the model, the objective is to minimize the error function and bring output as close\n",
    "as possible to the correct value.\n",
    "### Hyperparameters\n",
    "A hyperparameter is a setting that affects the structure or operation of the neural network.\n",
    "In real deep learning projects, tuning hyperparameters is the primary way to build a\n",
    "network that provides accurate predictions for a certain problem. Common hyperparameters\n",
    "include the number of hidden layers, the activation function, and how many times (epochs)\n",
    "training should be repeated.\n"
   ]
  },
  {
   "cell_type": "markdown",
   "id": "2c063a2c-2b73-4559-ae47-433caf81efac",
   "metadata": {},
   "source": [
    "# Methodology"
   ]
  },
  {
   "cell_type": "markdown",
   "id": "a0c72269-566c-4ed0-87e3-1ae6492749dc",
   "metadata": {},
   "source": [
    "## Data Preprocessing :\n",
    "#### One hot encoding :\n",
    "Encoding for Gender column and Offer_type Column ( Pre Model Preparation )\n",
    "### Splitting Dataset :\n",
    "The train_test_split function is for splitting a single dataset for two different purposes:\n",
    "training and testing. The testing subset is for building your model. The testing subset is for\n",
    "using the model on unknown data to evaluate the performance of the model.\n",
    "#### Feature Scaling :\n",
    "#### Standardization & Normalization\n",
    "Normalization is a scaling technique in which values are shifted and rescaled so that they\n",
    "end up ranging between 0 and 1. It is also known as Min-Max scaling.\n"
   ]
  },
  {
   "cell_type": "code",
   "execution_count": null,
   "id": "1f0a948f-5d4e-4040-9f51-b01725f3ca3e",
   "metadata": {},
   "outputs": [],
   "source": []
  },
  {
   "cell_type": "code",
   "execution_count": null,
   "id": "9648cadd-3f32-4a8a-80ab-a77c005c2aba",
   "metadata": {},
   "outputs": [],
   "source": [
    "Standardization is another scaling technique where the values are centered around the mean\n",
    "with a unit standard deviation. This means that the mean of the attribute becomes zero and\n",
    "the resultant distribution has a unit standard deviation.\n"
   ]
  },
  {
   "cell_type": "code",
   "execution_count": null,
   "id": "3c208a08-2eb3-407c-96f4-b0a5cd138fb9",
   "metadata": {},
   "outputs": [],
   "source": []
  },
  {
   "cell_type": "markdown",
   "id": "881107ca-24a9-4a5d-b202-fe4c64b349c4",
   "metadata": {},
   "source": [
    "### Pandas Dataframe.to_numpy() – Convert dataframe to Numpy array :\n",
    "Pandas Dataframe is two-dimensional size-mutable, potentially heterogeneous tabular data\n",
    "structure with labeled axes (rows and columns). This data structure can be converted to\n",
    "NumPy ndarray with the help of Dataframe.to_numpy() method.\n",
    "## Implementation :\n",
    "### Build a Model :\n",
    "Model: \"sequential_2\"\n",
    "Layer (type) Output Shape Param #\n",
    "=================================================================\n",
    "dense_8 (Dense) (None, 6) 90\n",
    "_________________________________________________________________\n",
    "dense_9 (Dense) (None, 6) 42\n",
    "_________________________________________________________________\n",
    "dense_10 (Dense) (None, 4) 28\n",
    "=================================================================\n",
    "Total params: 160\n",
    "Trainable params: 160\n",
    "Non-trainable params: 0"
   ]
  },
  {
   "cell_type": "code",
   "execution_count": null,
   "id": "d172183a-3443-4bc5-aa35-4f3107507135",
   "metadata": {},
   "outputs": [],
   "source": []
  },
  {
   "cell_type": "markdown",
   "id": "46c438a2-ac78-4393-812a-91ca9f277c6e",
   "metadata": {},
   "source": [
    "### Activation Function :\n",
    "#### Layer 1 and 2 [Input Layer and hidden Layer ] :\n",
    "The ReLu function is highly computationally efficient but is not able to process inputs that\n",
    "approach zero or negative.\n",
    "#### Layer 3 [ Output Layer ] :\n",
    "Softmax is a special activation function used for output neurons. It normalizes outputs for\n",
    "each class between 0 and 1, and returns the probability that the input belongs to a specific\n",
    "class.\n",
    "### Optimizer :\n",
    "Adam is a replacement optimization algorithm for stochastic gradient descent for training\n",
    "deep learning models. Adam combines the best properties of the AdaGrad and RMSProp\n",
    "18\n",
    "algorithms to provide an optimization algorithm that can handle sparse gradients on noisy\n",
    "problems.\n",
    "### Loss :\n",
    "sparse categorical cross entropy when your classes are mutually exclusive (e.g. when\n",
    "each sample belongs exactly to one class) and categorical cross entropy when one sample\n",
    "can have multiple classes or labels are soft probabilities (like [0.5, 0.3, 0.2])"
   ]
  },
  {
   "cell_type": "code",
   "execution_count": null,
   "id": "615ce491-d90f-4537-baa1-a16f5f533836",
   "metadata": {},
   "outputs": [],
   "source": []
  },
  {
   "cell_type": "markdown",
   "id": "121d64e4-563f-47d3-b137-6f3127018d11",
   "metadata": {},
   "source": [
    "# Refinement :\n",
    "## Improving Prediction Model :\n",
    "The model undergoes underfit ie. High Bias .\n",
    "Bias:It gives us how closeness is our predictive model to training data after averaging\n",
    "predicted values. Generally algorithms have high bias which help them to learn fast and\n",
    "easy to understand but are less flexible. That loses its ability to predict complex problems,\n",
    "so it fails to explain the algorithm bias. This results in underfitting of our model.\n",
    "### How to overcome Underfitting ?\n",
    "1. Use a bigger network .\n",
    "1.1 more hidden layers .\n",
    "1.2 more hidden units .\n",
    "2. Train model longer .\n",
    "3. Advanced optimization algorithm ."
   ]
  },
  {
   "cell_type": "code",
   "execution_count": null,
   "id": "0c326f6e-a36a-44bb-a023-64a70b525fb9",
   "metadata": {},
   "outputs": [],
   "source": []
  },
  {
   "cell_type": "markdown",
   "id": "cca78576-acd4-4b97-94c0-8d71032b68fe",
   "metadata": {},
   "source": [
    "# Results\n",
    "## Model Evaluation and Validation"
   ]
  },
  {
   "cell_type": "code",
   "execution_count": null,
   "id": "7c8958d3-14ab-4e9b-a21e-0090d8925191",
   "metadata": {},
   "outputs": [],
   "source": [
    "During development , a validation set was used to evaluate the model .\n",
    "The final architecture and hyperparameters were chosen because they performed better"
   ]
  },
  {
   "cell_type": "code",
   "execution_count": null,
   "id": "f0f6a52f-6fc8-4ebe-9759-3b0c4823bb14",
   "metadata": {},
   "outputs": [],
   "source": []
  },
  {
   "cell_type": "markdown",
   "id": "c8c25066-4b23-4e25-84b7-43af6bc0e495",
   "metadata": {},
   "source": [
    "# Justification :\n",
    "In the Refinement step we performed several Underfitting techniques .\n",
    "1. Kernel Initializer : “Normal” The neural network needs to start with some weights\n",
    "and then iteratively update them to better values. The term kernel_initializer is a fancy\n",
    "term for which statistical distribution or function to use for initialising the weights. In\n",
    "case of statistical distribution, the library will generate numbers from that statistical\n",
    "distribution and use them as starting weights.\n",
    "For example in the above code, normal distribution will be used to initialise weights.\n",
    "You can use other functions (constants like 1s or 0s) and distributions (uniform) too.\n",
    "2. Increased no. of hidden layer .\n",
    "3. Increased no. of hidden units ."
   ]
  },
  {
   "cell_type": "markdown",
   "id": "ac2b7457-6541-4071-9be7-8352c84e0058",
   "metadata": {},
   "source": [
    "# Conclusion\n",
    "## Reflection :\n"
   ]
  },
  {
   "cell_type": "code",
   "execution_count": null,
   "id": "81c2d539-2cfe-4d6d-8274-515347bfcb8c",
   "metadata": {},
   "outputs": [],
   "source": []
  },
  {
   "cell_type": "code",
   "execution_count": null,
   "id": "95b517e5-3d1c-4337-a8af-4bd020e458f5",
   "metadata": {},
   "outputs": [],
   "source": [
    "* I found this project challenging, mainly due to the structure of the data in the\n",
    "transcript dataset.\n",
    "* Majority classes are performing well but the minorities are not.Problem of imbalanced\n",
    "dataset\n",
    "* Most of the events are wrongly predicted as 'offer received'; offer received is the most\n",
    "occuring event or class.\n",
    "* The main goal I chose was to build something practical the company could use to\n",
    "make their choices more efficient.\n",
    "* But the results of the model seem not so good . There is no change in rate of accuracy;\n",
    "it remains constant ."
   ]
  },
  {
   "cell_type": "markdown",
   "id": "2d537ce7-3935-4cf6-ad93-25d22f42c5cc",
   "metadata": {},
   "source": [
    "## Improvement\n",
    "* As we’re using an imbalanced dataset we weren't expecting to get a greater accuracy .\n",
    "* The accuracy could be improved significantly by using deep neural networks, or using recommendation engines .\n",
    "* Analysing and building the models was Main challenging part and needed improvement .\n"
   ]
  },
  {
   "cell_type": "code",
   "execution_count": null,
   "id": "55baa506-b61f-4b7b-8279-d1d1026093c3",
   "metadata": {},
   "outputs": [],
   "source": []
  }
 ],
 "metadata": {
  "kernelspec": {
   "display_name": "Python 3 (ipykernel)",
   "language": "python",
   "name": "python3"
  },
  "language_info": {
   "codemirror_mode": {
    "name": "ipython",
    "version": 3
   },
   "file_extension": ".py",
   "mimetype": "text/x-python",
   "name": "python",
   "nbconvert_exporter": "python",
   "pygments_lexer": "ipython3",
   "version": "3.9.13"
  }
 },
 "nbformat": 4,
 "nbformat_minor": 5
}
